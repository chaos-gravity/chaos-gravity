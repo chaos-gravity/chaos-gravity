{
 "cells": [
  {
   "cell_type": "code",
   "execution_count": 1,
   "metadata": {},
   "outputs": [],
   "source": [
    "import cv2"
   ]
  },
  {
   "cell_type": "code",
   "execution_count": 37,
   "metadata": {},
   "outputs": [],
   "source": [
    "path = \"/home/hscc/Pictures/softmax_files/a_data/\""
   ]
  },
  {
   "cell_type": "code",
   "execution_count": 14,
   "metadata": {},
   "outputs": [
    {
     "name": "stdout",
     "output_type": "stream",
     "text": [
      "1_35.png   3_40.png  5_30.png  7_40.png  9_40.png\r\n",
      "2_70.jpeg  4_10.png  6_90.png  8_40.png\r\n"
     ]
    }
   ],
   "source": [
    "#根据图片文章内顺序和缩放比例重新命名图片，如下图所示，并保证目录下只有图片\n",
    "!ls /home/hscc/Pictures/softmax_files/a_data"
   ]
  },
  {
   "cell_type": "code",
   "execution_count": 15,
   "metadata": {},
   "outputs": [],
   "source": [
    "import os"
   ]
  },
  {
   "cell_type": "code",
   "execution_count": 44,
   "metadata": {},
   "outputs": [
    {
     "name": "stdout",
     "output_type": "stream",
     "text": [
      "/home/hscc/Pictures/softmax_files/a_data/ [] ['1_50.png', '5_35.png', '6_100.png', '4_30.png', '2_100.jpeg', '9_60.png', '3_60.png', '8_60.png', '7_50.png']\n",
      "1_50.png\n",
      "1\n",
      "0.5\n",
      "5_35.png\n",
      "5\n",
      "0.35\n",
      "6_100.png\n",
      "6\n",
      "1.0\n",
      "4_30.png\n",
      "4\n",
      "0.3\n",
      "2_100.jpeg\n",
      "2\n",
      "1.0\n",
      "9_60.png\n",
      "9\n",
      "0.6\n",
      "3_60.png\n",
      "3\n",
      "0.6\n",
      "8_60.png\n",
      "8\n",
      "0.6\n",
      "7_50.png\n",
      "7\n",
      "0.5\n"
     ]
    }
   ],
   "source": [
    "for i,j,k in os.walk(path):\n",
    "    print(i, j, k)\n",
    "    for item in k:\n",
    "        name = item.split(\".\")[0].split(\"_\")[0]\n",
    "        ratio = float(item.split(\".\")[0].split(\"_\")[1])/100\n",
    "        print(item)\n",
    "        print(name)\n",
    "        print(ratio)\n",
    "        image = cv2.imread(path+item)\n",
    "        \n",
    "        width = int(image.shape[1] * ratio)\n",
    "        height = int(image.shape[0] * ratio)\n",
    "        dim = (width, height)\n",
    "        new_image = cv2.resize(image, dim, interpolation = cv2.INTER_AREA)\n",
    "        cv2.imwrite(path+name+\".png\", new_image)"
   ]
  },
  {
   "cell_type": "code",
   "execution_count": null,
   "metadata": {},
   "outputs": [],
   "source": []
  }
 ],
 "metadata": {
  "kernelspec": {
   "display_name": "Python 3",
   "language": "python",
   "name": "python3"
  },
  "language_info": {
   "codemirror_mode": {
    "name": "ipython",
    "version": 3
   },
   "file_extension": ".py",
   "mimetype": "text/x-python",
   "name": "python",
   "nbconvert_exporter": "python",
   "pygments_lexer": "ipython3",
   "version": "3.7.7"
  }
 },
 "nbformat": 4,
 "nbformat_minor": 4
}
